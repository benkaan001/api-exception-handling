{
 "cells": [
  {
   "cell_type": "code",
   "execution_count": 1,
   "metadata": {},
   "outputs": [],
   "source": [
    "import logging\n",
    "import traceback\n",
    "from functools import wraps\n",
    "from typing import Any, Callable\n",
    "\n",
    "def create_logger(log_file_path: str = 'exc_logger.log', log_level: int = logging.INFO) -> logging.Logger:\n",
    "    \"\"\"\n",
    "    Creates a logger object that writes log messages to a file.\n",
    "\n",
    "    Parameters:\n",
    "    log_file_path: The path of the log file. Defaults to 'exc_logger.log'.\n",
    "    log_level: The level at which the logger should log. Defaults to logging.INFO.\n",
    "    \n",
    "    Returns:\n",
    "    Logger object: A Logger object that writes log messages to the specified file.\n",
    "\n",
    "    The logger object created by this function writes log messages to a file with the given path.\n",
    "    If no path is specified, it writes log messages to a file named 'exc_logger.log' in the current directory.\n",
    "    The log level determines which log messages are processed by the logger. The default log level is INFO,\n",
    "    which means that log messages with a level of INFO, WARNING, ERROR, or CRITICAL will be processed.\n",
    "\n",
    "    You can use the logger object to write log messages to the specified log file using methods like `logger.info()`,\n",
    "    `logger.warning()`, `logger.error()`, and `logger.critical()`.\n",
    "    \"\"\"\n",
    "    logger = logging.getLogger('exc_logger')\n",
    "    logger.setLevel(log_level)\n",
    "\n",
    "    formatter = logging.Formatter('%(asctime)s - %(name)s - %(levelname)s - %(message)s')\n",
    "\n",
    "    # Create a file to store all the logged exceptions\n",
    "    logfile = logging.FileHandler(log_file_path)\n",
    "    logfile.setLevel(log_level)\n",
    "    logfile.setFormatter(formatter)\n",
    "    logger.addHandler(logfile)\n",
    "\n",
    "    return logger"
   ]
  },
  {
   "cell_type": "code",
   "execution_count": 2,
   "metadata": {},
   "outputs": [],
   "source": [
    "# create a Logger object\n",
    "logger = create_logger('ipynb_test_logs.log')  "
   ]
  },
  {
   "cell_type": "code",
   "execution_count": 3,
   "metadata": {},
   "outputs": [],
   "source": [
    "def log_exceptions(logger: logging.Logger) -> Callable[[Any], Any]:\n",
    "    \"\"\"\n",
    "    A decorator function that logs any exceptions raised by the decorated function.\n",
    "\n",
    "    ## Parameters:\n",
    "    logger: The logger object to use for logging the exceptions.\n",
    "\n",
    "    ## Usage:\n",
    "    1. Create a logger object using the `create_logger` function.\n",
    "    2. Decorate the functions you want to log exceptions for using the `log_exceptions` decorator.\n",
    "    3. Call the decorated function as usual.\n",
    "\n",
    "    ## Example:\n",
    "\n",
    "    1. Create a logger object\n",
    "    \n",
    "        logger = create_logger('my_logger')\n",
    "\n",
    "    2. Create a function to decorate\n",
    "    \n",
    "        @log_exceptions(logger)\n",
    "        def my_function():\n",
    "            raise ValueError('Something went wrong!')\n",
    "\n",
    "    3. Call the function\n",
    "    \n",
    "        my_function()\n",
    "\n",
    "    - The `log_exceptions` decorator logs any exceptions raised by the decorated function \n",
    "    using the specified logger object.\n",
    "    \n",
    "    - It also re-raises the exception so that it can be handled by the caller, \n",
    "    while still allowing the exception to be logged.\n",
    "    \"\"\"\n",
    "    def decorator_log_exceptions(func):\n",
    "        @wraps(func)\n",
    "        def wrapper_log_exceptions(*args, **kwargs):\n",
    "            try:\n",
    "                return func(*args, **kwargs)\n",
    "            except Exception as e:\n",
    "                error_message = f\"Exception in {func.__name__}: {e}\\n{traceback.format_exc()}\"\n",
    "                logger.error(error_message)\n",
    "        return wrapper_log_exceptions\n",
    "    return decorator_log_exceptions"
   ]
  },
  {
   "cell_type": "code",
   "execution_count": 4,
   "metadata": {},
   "outputs": [],
   "source": [
    "@log_exceptions(logger)\n",
    "def test_divide(num1, num2):\n",
    "    return num1 / num2\n",
    "\n",
    "test_divide(5, 0)"
   ]
  }
 ],
 "metadata": {
  "kernelspec": {
   "display_name": "Python 3",
   "language": "python",
   "name": "python3"
  },
  "language_info": {
   "codemirror_mode": {
    "name": "ipython",
    "version": 3
   },
   "file_extension": ".py",
   "mimetype": "text/x-python",
   "name": "python",
   "nbconvert_exporter": "python",
   "pygments_lexer": "ipython3",
   "version": "3.11.2"
  },
  "orig_nbformat": 4
 },
 "nbformat": 4,
 "nbformat_minor": 2
}
